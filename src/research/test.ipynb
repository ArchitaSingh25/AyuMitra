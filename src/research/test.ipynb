{
 "cells": [
  {
   "cell_type": "code",
   "execution_count": null,
   "id": "81f63ab9",
   "metadata": {},
   "outputs": [],
   "source": [
    "from langchain.text_splitter import RecursiveCharacterTextSplitter\n",
    "from langchain_community.vectorstores import Chroma\n",
    "import os"
   ]
  },
  {
   "cell_type": "code",
   "execution_count": null,
   "id": "8ae56a0b",
   "metadata": {},
   "outputs": [],
   "source": [
    "## Reading from a pdf file\n",
    "from langchain_community.document_loaders import TextLoader\n",
    "\n",
    "loader=TextLoader('Ashtangahridaya.txt')\n",
    "docs=loader.load()\n",
    "# 3. Split into smaller chunks (important for embeddings & retrieval)\n",
    "text_splitter=RecursiveCharacterTextSplitter(\n",
    "    chunk_size=500,chunk_overlap=50)\n",
    "Final_document = text_splitter.split_documents(docs)"
   ]
  },
  {
   "cell_type": "code",
   "execution_count": null,
   "id": "9917ea10",
   "metadata": {},
   "outputs": [],
   "source": [
    "###Reading a pdf file\n",
    "\n",
    "from langchain_community.document_loaders import PyPDFLoader\n",
    "\n",
    "loader=PyPDFLoader(\"/content/Charaka-Samhita-Acharya-Charaka.pdf\")\n",
    "docs=loader.load()\n",
    "\n",
    "# 3. Split into smaller chunks (important for embeddings & retrieval)\n",
    "text_splitter=RecursiveCharacterTextSplitter(\n",
    "    chunk_size=500,chunk_overlap=50)\n",
    "Final_document = text_splitter.split_documents(docs)"
   ]
  },
  {
   "cell_type": "markdown",
   "id": "62be4052",
   "metadata": {},
   "source": [
    "# apply preprocessing for both the files and create a clean document"
   ]
  },
  {
   "cell_type": "code",
   "execution_count": null,
   "id": "b6f3b998",
   "metadata": {},
   "outputs": [],
   "source": [
    "import re\n",
    "\n",
    "def preprocess_text_mupdf(text):\n",
    "    # Remove headers/footers\n",
    "    text = re.sub(r'\\n\\s*\\n', '\\n', text)  # Remove empty lines\n",
    "    text = re.sub(r'[^A-Za-z0-9.,;:!?()\\'\\\"\\n]+', ' ', text)  # Remove special characters but keep punctuation\n",
    "    text = re.sub(r'\\s+', ' ', text)  # Replace multiple spaces with single space\n",
    "    return text.strip()\n",
    "\n",
    "for i in range(len(Final_document)):\n",
    "  Final_document[i].page_content=preprocess_text_mupdf(Final_document[i].page_content)\n",
    "\n",
    "# Save the cleaned text to a file\n",
    "with open('Ashtang_cleaned.txt', 'w') as file:\n",
    "    for document in Final_document:\n",
    "        cleaned_text_mupdf = document.page_content\n",
    "        # Write the cleaned text to the file\n",
    "        file.write(cleaned_text_mupdf)\n"
   ]
  },
  {
   "cell_type": "code",
   "execution_count": null,
   "id": "37dc00c6",
   "metadata": {},
   "outputs": [],
   "source": [
    "\n",
    "\n",
    "# 1. Load multiple books\n",
    "loader1 = TextLoader(\"D:\\\\AIBootcamp\\\\AyuMitra\\\\bookbank\\\\Ashtang_cleaned.txt\", encoding=\"utf-8\")\n",
    "loader2 = TextLoader(\"D:\\\\AIBootcamp\\\\AyuMitra\\\\bookbank\\\\Charak_cleaned.txt\", encoding=\"utf-8\")\n",
    "\n",
    "docs1 = loader1.load()\n",
    "docs2 = loader2.load()\n",
    "\n",
    "# 2. Combine documents\n",
    "all_docs = docs1 + docs2\n",
    "\n",
    "# 3. Split into smaller chunks (important for embeddings & retrieval)\n",
    "text_splitter=RecursiveCharacterTextSplitter(\n",
    "    chunk_size=500,chunk_overlap=50)\n",
    "Final_document = text_splitter.split_documents(all_docs)\n"
   ]
  },
  {
   "cell_type": "code",
   "execution_count": 3,
   "id": "33616a98",
   "metadata": {},
   "outputs": [
    {
     "data": {
      "text/plain": [
       "4524"
      ]
     },
     "execution_count": 3,
     "metadata": {},
     "output_type": "execute_result"
    }
   ],
   "source": [
    "len(Final_document)  # Check the number of chunks created"
   ]
  },
  {
   "cell_type": "code",
   "execution_count": 4,
   "id": "2ccee606",
   "metadata": {},
   "outputs": [
    {
     "name": "stderr",
     "output_type": "stream",
     "text": [
      "C:\\Users\\Asus\\AppData\\Local\\Temp\\ipykernel_17788\\4286477000.py:2: LangChainDeprecationWarning: The class `HuggingFaceEmbeddings` was deprecated in LangChain 0.2.2 and will be removed in 1.0. An updated version of the class exists in the :class:`~langchain-huggingface package and should be used instead. To use it run `pip install -U :class:`~langchain-huggingface` and import as `from :class:`~langchain_huggingface import HuggingFaceEmbeddings``.\n",
      "  embeddings = HuggingFaceEmbeddings(model_name=\"all-MiniLM-L6-v2\")\n",
      "c:\\Users\\Asus\\anaconda3\\envs\\vedbot\\Lib\\site-packages\\tqdm\\auto.py:21: TqdmWarning: IProgress not found. Please update jupyter and ipywidgets. See https://ipywidgets.readthedocs.io/en/stable/user_install.html\n",
      "  from .autonotebook import tqdm as notebook_tqdm\n"
     ]
    }
   ],
   "source": [
    "from langchain.embeddings import HuggingFaceEmbeddings\n",
    "embeddings = HuggingFaceEmbeddings(model_name=\"all-MiniLM-L6-v2\")"
   ]
  },
  {
   "cell_type": "code",
   "execution_count": null,
   "id": "502df482",
   "metadata": {},
   "outputs": [],
   "source": [
    "\"\"\"\n",
    "not needed\n",
    "from langchain.vectorstores import Chroma\n",
    "\n",
    "db = Chroma.from_documents(Final_document, embedding=embeddings, collection_name=\"bookstore\")\n",
    "\"\"\"\n"
   ]
  },
  {
   "cell_type": "code",
   "execution_count": null,
   "id": "6c70ef72",
   "metadata": {},
   "outputs": [
    {
     "name": "stdout",
     "output_type": "stream",
     "text": [
      "✅ Chroma DB saved at D:\\AIBootcamp\\AyuMitra\\db\n"
     ]
    },
    {
     "name": "stderr",
     "output_type": "stream",
     "text": [
      "C:\\Users\\Asus\\AppData\\Local\\Temp\\ipykernel_17788\\2623306549.py:10: LangChainDeprecationWarning: Since Chroma 0.4.x the manual persistence method is no longer supported as docs are automatically persisted.\n",
      "  db.persist()\n"
     ]
    }
   ],
   "source": [
    "# Create a persistent Chroma DB\n",
    "persist_directory = r\"D:\\AIBootcamp\\AyuMitra\\db\"  # use raw string for Windows paths\n",
    "\n",
    "db = Chroma.from_documents(\n",
    "    documents=Final_document,\n",
    "    embedding=embeddings,\n",
    "    collection_name=\"bookstore\",\n",
    "    persist_directory=persist_directory\n",
    ")\n",
    "db.persist()\n",
    "print(\" Chroma DB saved at\", persist_directory)\n"
   ]
  },
  {
   "cell_type": "code",
   "execution_count": 11,
   "id": "05a39828",
   "metadata": {},
   "outputs": [],
   "source": [
    "from langchain_core.runnables import RunnableMap\n",
    "#To get a callable obebject to map result\n",
    "retriever=db.as_retriever()\n",
    "# This gets relevant context documents and prepares inputs for the prompt\n",
    "retrieval_chain = (\n",
    "    RunnableMap({\n",
    "        \"question\": lambda x: x[\"question\"],\n",
    "        \"context\": lambda x: \"\\n\\n\".join(\n",
    "            doc.page_content for doc in retriever.get_relevant_documents(x[\"question\"])\n",
    "        )\n",
    "    })\n",
    ")\n",
    "\n"
   ]
  },
  {
   "cell_type": "code",
   "execution_count": 24,
   "id": "6d692deb",
   "metadata": {},
   "outputs": [
    {
     "name": "stdout",
     "output_type": "stream",
     "text": [
      "D:\\AIBootcamp\\Ayurvedic_chatbot\\system_prompt.txt\n"
     ]
    }
   ],
   "source": [
    "import os\n",
    "from dotenv import load_dotenv\n",
    "from langchain_core.prompts import ChatPromptTemplate\n",
    "\n",
    "# Load environment variables from .env file\n",
    "load_dotenv()\n",
    "\n",
    "# Fetch system prompt path from env\n",
    "system_prompt_path = os.getenv(\"SYSTEM_PROMPT_PATH\")\n",
    "print(system_prompt_path)\n",
    "\n",
    "if not system_prompt_path:\n",
    "    raise ValueError(\"SYSTEM_PROMPT_PATH not set in .env file\")\n",
    "\n",
    "# Load system prompt from text file\n",
    "with open(system_prompt_path, \"r\", encoding=\"utf-8\") as f:\n",
    "    system_prompt = f.read()\n",
    "\n",
    "# Build Ayurvedic Medical Bot Prompt\n",
    "prompt = ChatPromptTemplate.from_messages(\n",
    "    [\n",
    "        (\"system\", system_prompt),\n",
    "        (\n",
    "            \"user\",\n",
    "            \"Context:\\n{context}\\n\\nQuestion: {question}\"\n",
    "        ),\n",
    "    ]\n",
    ")\n"
   ]
  },
  {
   "cell_type": "code",
   "execution_count": null,
   "id": "c3d7ee2c",
   "metadata": {},
   "outputs": [],
   "source": [
    "from langchain_google_genai import ChatGoogleGenerativeAI\n",
    "GEMINI_API_KEY = os.getenv(\"GEMINI_API_KEY\")\n",
    "\n",
    "llm = ChatGoogleGenerativeAI(\n",
    "    model=\"gemini-2.0-flash\",\n",
    "    google_api_key=GEMINI_API_KEY,\n",
    "    temperature=0.5,\n",
    "    max_output_tokens=4096\n",
    ")\n",
    "\n",
    "\n"
   ]
  },
  {
   "cell_type": "code",
   "execution_count": 28,
   "id": "8e048d1f",
   "metadata": {},
   "outputs": [],
   "source": [
    "from langchain_core.output_parsers import StrOutputParser\n",
    "\n",
    "# For parsing output\n",
    "output_parser=StrOutputParser()\n",
    "\n",
    "# Final chain\n",
    "chain = retrieval_chain | prompt | llm | output_parser\n",
    "\n"
   ]
  },
  {
   "cell_type": "code",
   "execution_count": 29,
   "id": "bace5477",
   "metadata": {},
   "outputs": [
    {
     "name": "stderr",
     "output_type": "stream",
     "text": [
      "C:\\Users\\Asus\\AppData\\Local\\Temp\\ipykernel_21712\\49847817.py:9: LangChainDeprecationWarning: The method `BaseRetriever.get_relevant_documents` was deprecated in langchain-core 0.1.46 and will be removed in 1.0. Use :meth:`~invoke` instead.\n",
      "  doc.page_content for doc in retriever.get_relevant_documents(x[\"question\"])\n"
     ]
    },
    {
     "name": "stdout",
     "output_type": "stream",
     "text": [
      "Okay, based on the context you've provided, here's a possible Ayurvedic approach to address your symptoms:\n",
      "\n",
      "**Understanding the Imbalance:**\n",
      "\n",
      "*   The symptoms suggest an imbalance of Vata dosha, particularly in the Apana Vata subtype, which governs the downward flow of energy and elimination.\n",
      "*   The pain and urinary issues indicate a possible obstruction (Ama) in the urinary channels (Mutravaha Srotas).\n",
      "*   The mention of suppressed urges and decreased malas (waste products) further points to Vata aggravation.\n",
      "\n",
      "**Treatment Approach:**\n",
      "\n",
      "The general line of treatment involves Vata pacification, Ama digestion, and restoring healthy flow in the urinary system.\n",
      "\n",
      "**1. Home Remedy (Vata-Pacifying & Diuretic):**\n",
      "\n",
      "*   **Ingredients:**\n",
      "    *   Warm water\n",
      "    *   1/2 teaspoon of ginger powder\n",
      "    *   1/4 teaspoon of cumin powder\n",
      "*   **Preparation:** Mix the ginger and cumin powder in warm water.\n",
      "*   **Dosage:** Drink this twice a day, preferably after meals.\n",
      "*   **Timing:** Continue for a week and observe the changes.\n",
      "*   **Benefits:** Ginger and cumin are carminative and help in proper digestion and elimination. Warm water aids in soothing Vata.\n",
      "\n",
      "**2. Classical Ayurvedic Formulation:**\n",
      "\n",
      "*   **Medication:** Chandraprabha Vati\n",
      "*   **Dosage:** 1-2 tablets twice daily with warm water.\n",
      "*   **Timing:** After meals.\n",
      "*   **Benefits:** It is traditionally used for urinary disorders, difficulty in micturition, and bladder-related issues. It helps to pacify Vata and promote healthy urine flow.\n",
      "*   **Precautions:** Consult an Ayurvedic doctor before starting, especially if you have diabetes or any other chronic illness.\n",
      "\n",
      "**3. Ayurvedic Procedures (under professional guidance):**\n",
      "\n",
      "*   **Abhyanga (Oil Massage):** Full body massage with sesame oil, focusing on the lower abdomen.\n",
      "*   **Avagaha Sweda (Sitz Bath):** Immerse the pelvic region in warm water infused with Dashamoola herbs.\n",
      "*   **Vasti Karma (Medicated Enema):** As mentioned in the context, medicated enemas are crucial for Vata disorders. Options include:\n",
      "    *   **Anuvasana Vasti:** Oil-based enema to lubricate and soothe Vata.\n",
      "    *   **Niruha Vasti:** Decoction-based enema to cleanse and eliminate toxins.\n",
      "\n",
      "**4. Lifestyle Adjustments (Dinacharya):**\n",
      "\n",
      "*   **Warmth:** Keep yourself warm, especially the lower abdomen and pelvic region.\n",
      "*   **Diet:** Favor warm, cooked, and easily digestible foods. Avoid cold, dry, and processed foods.\n",
      "*   **Hydration:** Drink warm water throughout the day.\n",
      "*   **Avoid Suppression of Urges:** Do not suppress the natural urges for urination and defecation.\n",
      "*   **Gentle Exercise:** Light walking or yoga to promote circulation and reduce stiffness.\n",
      "\n",
      "**5. Diet Recommendations:**\n",
      "\n",
      "*   Include foods that are naturally diuretic, such as cucumber and watermelon.\n",
      "*   Avoid excessive salt intake, as it can irritate the urinary system.\n",
      "*   Include herbal teas that have diuretic properties, such as Gokshura.\n",
      "\n",
      "**Precautions:**\n",
      "\n",
      "*   If you experience severe pain, fever, or blood in the urine, seek immediate medical attention.\n",
      "*   If you have a known history of kidney stones or other urinary tract disorders, consult a specialist.\n",
      "\n",
      "Please confirm this remedy or medication with a certified Ayurvedic practitioner or healthcare expert before following it.\n"
     ]
    }
   ],
   "source": [
    "query = \" I feel severe pain in urinary bladder,intense pain in penis ,frequent urination in less quantity\"\n",
    "\n",
    "\n",
    "rag_answer=chain.invoke({\"question\":query})\n",
    "print(rag_answer)"
   ]
  },
  {
   "cell_type": "code",
   "execution_count": 30,
   "id": "329d9e23",
   "metadata": {},
   "outputs": [],
   "source": [
    "import numpy as np\n",
    "from scipy.spatial.distance import cosine\n",
    "def get_embedding(text):\n",
    "    \"\"\"\n",
    "    Generate an embedding for a given text.\n",
    "\n",
    "    Args:\n",
    "    - text (str): The input text.\n",
    "\n",
    "    Returns:\n",
    "    - The sentence embedding.\n",
    "    \"\"\"\n",
    "    # Generate the sentence embeddings\n",
    "    embeddings = HuggingFaceEmbeddings(model_name=\"all-MiniLM-L6-v2\")\n",
    "    return embeddings.embed_query(text)\n",
    "\n",
    "\n",
    "def calculate_cosine_similarity(embedding1, embedding2):\n",
    "    \"\"\"\n",
    "    Calculate the cosine similarity between two embeddings.\n",
    "\n",
    "    Args:\n",
    "    - embedding1 (torch.Tensor): The first embedding.\n",
    "    - embedding2 (torch.Tensor): The second embedding.\n",
    "\n",
    "    Returns:\n",
    "    - The cosine similarity score.\n",
    "    \"\"\"\n",
    "    # Calculate the cosine similarity\n",
    "    similarity = 1 - cosine(embedding1, embedding2)\n",
    "    return similarity\n",
    "\n",
    "\n",
    "def calculate_similarity_scores(true_answer, rag_answer, non_rag_answer):\n",
    "    \"\"\"\n",
    "    Calculate the cosine similarity scores between the true answer and both RAG-based and non-RAG-based answers.\n",
    "\n",
    "    Args:\n",
    "    - true_answer (str): The true answer text.\n",
    "    - rag_answer (str): The RAG-based model's answer text.\n",
    "    - non_rag_answer (str): The non-RAG-based model's answer text.\n",
    "\n",
    "    Returns:\n",
    "    - A dictionary with cosine similarity scores.\n",
    "    \"\"\"\n",
    "    # Convert the answers to embeddings\n",
    "    true_answer_embedding = get_embedding(true_answer)\n",
    "    rag_answer_embedding = get_embedding(rag_answer)\n",
    "    non_rag_answer_embedding = get_embedding(non_rag_answer)\n",
    "\n",
    "    # Calculate cosine similarity scores\n",
    "    rag_similarity = calculate_cosine_similarity(true_answer_embedding, rag_answer_embedding)\n",
    "    non_rag_similarity = calculate_cosine_similarity(true_answer_embedding, non_rag_answer_embedding)\n",
    "\n",
    "\n",
    "    # Return the scores\n",
    "    return {\n",
    "        \"RAG Similarity Score\": rag_similarity,\n",
    "        \"Non-RAG Similarity Score\": non_rag_similarity\n",
    "    }\n",
    "\n",
    "\n"
   ]
  },
  {
   "cell_type": "code",
   "execution_count": 31,
   "id": "200e31ef",
   "metadata": {},
   "outputs": [],
   "source": [
    "true_answer = \"\"\"**Ayurvedic Remedies**\n",
    "\n",
    "*   **Classical Formulation:**\n",
    "    *   **Punarnavadi Kashayam:** This classical Ayurvedic decoction is known for its diuretic and anti-inflammatory properties, which can help alleviate bladder pain and promote healthy urine flow.\n",
    "        *   **Ingredients:** Punarnava (Boerhavia diffusa) and other herbs.\n",
    "        *   **Preparation:** Usually available as a ready-made decoction.\n",
    "        *   **Dosage:** 15-20 ml, mixed with an equal amount of warm water, twice daily after food.\n",
    "        *   **Timing:** Morning and evening after meals.\n",
    "\n",
    "**Lifestyle Adjustments**\n",
    "\n",
    "*   **Hydration:** Drink plenty of fluids (warm water, herbal teas) to help flush out the urinary system and reduce burning sensations.\n",
    "*   **Avoid Suppressing Urges:** Always heed the natural urge to urinate. Suppressing it can lead to imbalances and pain.\n",
    "*   **Warm Compress:** Apply a warm compress to the lower abdomen to help soothe the bladder and alleviate pain.\n",
    "\n",
    "**Precautions:**\n",
    "\n",
    "*   If you have a known history of kidney stones or any chronic urinary condition, consult with a healthcare provider before trying these remedies.\n",
    "*   If you experience fever, severe pain, or blood in the urine, seek immediate medical attention.\n",
    "\"\"\""
   ]
  },
  {
   "cell_type": "code",
   "execution_count": 32,
   "id": "0bf93e5f",
   "metadata": {},
   "outputs": [
    {
     "name": "stdout",
     "output_type": "stream",
     "text": [
      "{'RAG Similarity Score': np.float64(0.7142274190583674), 'Non-RAG Similarity Score': np.float64(1.0)}\n"
     ]
    }
   ],
   "source": [
    "# Calculate the similarity scores\n",
    "similarity_scores = calculate_similarity_scores(true_answer, rag_answer, true_answer)\n",
    "print(similarity_scores)"
   ]
  },
  {
   "cell_type": "code",
   "execution_count": null,
   "id": "4c2def64",
   "metadata": {},
   "outputs": [
    {
     "data": {
      "text/plain": [
       "True"
      ]
     },
     "execution_count": 2,
     "metadata": {},
     "output_type": "execute_result"
    }
   ],
   "source": [
    "from rag_logic import load_db, build_chain,build_conversational_chain,get_session_history\n",
    "from dotenv import load_dotenv\n",
    "import os\n",
    "\n",
    "load_dotenv()\n",
    "db=load_db(embeddings)  # or \"Cases\" based on your choice\n",
    "chain, retriever, config=build_conversational_chain(db)\n",
    "from langchain_core.messages import HumanMessage\n",
    "query = \" I feel severe pain in urinary bladder,intense pain in penis ,frequent urination in less quantity\"\n",
    "\n",
    "rag_answer=chain.invoke(\n",
    "    [HumanMessage(content=query)\n",
    "     ],\n",
    "     config=config\n",
    ")\n",
    "\n",
    "\n",
    "\n",
    "print(rag_answer)"
   ]
  },
  {
   "cell_type": "code",
   "execution_count": null,
   "id": "454d893a",
   "metadata": {},
   "outputs": [
    {
     "name": "stderr",
     "output_type": "stream",
     "text": [
      "C:\\Users\\Asus\\AppData\\Local\\Temp\\ipykernel_17596\\2766215191.py:2: LangChainDeprecationWarning: The class `HuggingFaceEmbeddings` was deprecated in LangChain 0.2.2 and will be removed in 1.0. An updated version of the class exists in the :class:`~langchain-huggingface package and should be used instead. To use it run `pip install -U :class:`~langchain-huggingface` and import as `from :class:`~langchain_huggingface import HuggingFaceEmbeddings``.\n",
      "  embeddings = HuggingFaceEmbeddings(model_name=\"all-MiniLM-L6-v2\")\n",
      "c:\\Users\\Asus\\anaconda3\\envs\\vedbot\\Lib\\site-packages\\tqdm\\auto.py:21: TqdmWarning: IProgress not found. Please update jupyter and ipywidgets. See https://ipywidgets.readthedocs.io/en/stable/user_install.html\n",
      "  from .autonotebook import tqdm as notebook_tqdm\n"
     ]
    }
   ],
   "source": [
    "from langchain.embeddings import HuggingFaceEmbeddings\n",
    "embeddings = HuggingFaceEmbeddings(model_name=\"all-MiniLM-L6-v2\")\n",
    "db=load_db(embeddings)  # or \"Cases\" based on your choice"
   ]
  },
  {
   "cell_type": "code",
   "execution_count": 4,
   "id": "2ae0f51e",
   "metadata": {},
   "outputs": [],
   "source": [
    "chain,retriever=build_chain(db)"
   ]
  },
  {
   "cell_type": "code",
   "execution_count": 5,
   "id": "a806f6f3",
   "metadata": {},
   "outputs": [
    {
     "name": "stderr",
     "output_type": "stream",
     "text": [
      "d:\\AIBootcamp\\Ayurvedic_chatbot\\src\\rag_logic.py:71: LangChainDeprecationWarning: The method `BaseRetriever.get_relevant_documents` was deprecated in langchain-core 0.1.46 and will be removed in 1.0. Use :meth:`~invoke` instead.\n",
      "  doc.page_content for doc in retriever.get_relevant_documents(x[\"question\"])\n"
     ]
    },
    {
     "name": "stdout",
     "output_type": "stream",
     "text": [
      "Based on your symptoms, it appears you may be experiencing a condition related to urinary function and pain. In Ayurveda, this could be related to an imbalance of Vata and Pitta doshas affecting the Apana Vata (the Vata subtype governing the lower abdomen) and potentially causing inflammation or obstruction in the urinary tract.\n",
      "\n",
      "Here are a few potential remedies and lifestyle adjustments that may help alleviate your symptoms:\n",
      "\n",
      "**Home Remedy:**\n",
      "*   **Ingredients:**\n",
      "    *   1 teaspoon of coriander seeds\n",
      "    *   1 teaspoon of cumin seeds\n",
      "    *   2 cups of water\n",
      "*   **Preparation:**\n",
      "    *   Boil the water with the coriander and cumin seeds.\n",
      "    *   Simmer until the water reduces to half.\n",
      "    *   Strain and let it cool slightly.\n",
      "*   **Dosage:** Drink this twice a day.\n",
      "*   **Timing:** Morning and evening.\n",
      "\n",
      "**Classical Ayurvedic Formulation:**\n",
      "*   **Chandrashuradi Guti:** This tablet is known for its diuretic and anti-inflammatory properties, which can help in urinary disorders.\n",
      "    *   **Dosage:** 1-2 tablets twice daily.\n",
      "    *   **Timing:** After food.\n",
      "\n",
      "**Lifestyle Adjustments:**\n",
      "\n",
      "*   **Hydration:** Drink plenty of water throughout the day to help flush out the urinary system.\n",
      "*   **Avoid Irritants:** Reduce the intake of spicy, salty, and acidic foods, as these can irritate the bladder.\n",
      "\n",
      "**Precaution:** If you have any chronic illnesses or are on other medications, consult with a healthcare provider before starting any new remedy.\n",
      "\n",
      "Please confirm this remedy or medication with a certified Ayurvedic practitioner or healthcare expert before following it.\n"
     ]
    }
   ],
   "source": [
    "query = \" I feel severe pain in urinary bladder,intense pain in penis ,frequent urination in less quantity\"\n",
    "\n",
    "\n",
    "rag_answer=chain.invoke({\"question\":query})\n",
    "print(rag_answer)"
   ]
  },
  {
   "cell_type": "code",
   "execution_count": 1,
   "id": "7d70e880",
   "metadata": {},
   "outputs": [
    {
     "name": "stderr",
     "output_type": "stream",
     "text": [
      "C:\\Users\\Asus\\AppData\\Local\\Temp\\ipykernel_8592\\686652566.py:8: LangChainDeprecationWarning: The class `HuggingFaceEmbeddings` was deprecated in LangChain 0.2.2 and will be removed in 1.0. An updated version of the class exists in the :class:`~langchain-huggingface package and should be used instead. To use it run `pip install -U :class:`~langchain-huggingface` and import as `from :class:`~langchain_huggingface import HuggingFaceEmbeddings``.\n",
      "  embeddings = HuggingFaceEmbeddings(model_name=\"sentence-transformers/all-MiniLM-L6-v2\")\n",
      "c:\\Users\\Asus\\anaconda3\\envs\\vedbot\\Lib\\site-packages\\tqdm\\auto.py:21: TqdmWarning: IProgress not found. Please update jupyter and ipywidgets. See https://ipywidgets.readthedocs.io/en/stable/user_install.html\n",
      "  from .autonotebook import tqdm as notebook_tqdm\n",
      "d:\\AIBootcamp\\Ayurvedic_chatbot\\src\\rag_logic.py:62: LangChainDeprecationWarning: The class `Chroma` was deprecated in LangChain 0.2.9 and will be removed in 1.0. An updated version of the class exists in the :class:`~langchain-chroma package and should be used instead. To use it run `pip install -U :class:`~langchain-chroma` and import as `from :class:`~langchain_chroma import Chroma``.\n",
      "  db = Chroma(\n",
      "d:\\AIBootcamp\\Ayurvedic_chatbot\\src\\rag_logic.py:77: LangChainDeprecationWarning: The method `BaseRetriever.get_relevant_documents` was deprecated in langchain-core 0.1.46 and will be removed in 1.0. Use :meth:`~invoke` instead.\n",
      "  doc.page_content for doc in retriever.get_relevant_documents(x[\"question\"])\n"
     ]
    },
    {
     "name": "stdout",
     "output_type": "stream",
     "text": [
      "Based on your symptoms (severe pain in the urinary bladder and penis, frequent urination in small quantities), here are a few potential Ayurvedic remedies:\n",
      "\n",
      "*   **Home Remedy:**\n",
      "    *   **Ingredients:** Gokshura (Tribulus terrestris) powder, warm water.\n",
      "    *   **Preparation:** Mix 1 teaspoon of Gokshura powder in a glass of warm water.\n",
      "    *   **Dosage:** Drink this twice daily.\n",
      "    *   **Timing:** Morning and evening, preferably before meals.\n",
      "    *   **Benefits:** Gokshura is known for its diuretic and anti-inflammatory properties, which can help alleviate urinary pain and promote healthy urine flow.\n",
      "\n",
      "*   **Classical Ayurvedic Formulation:**\n",
      "    *   **Medication:** Chandraprabha Vati\n",
      "    *   **Dosage:** 1-2 tablets twice daily\n",
      "    *   **Timing:** After food with warm water\n",
      "    *   **Benefits:** It helps in relieving urinary problems.\n",
      "\n",
      "*   **Lifestyle Adjustment:**\n",
      "    *   **Hydration:** Drink plenty of water throughout the day to help flush out toxins and reduce irritation in the urinary tract.\n",
      "    *   **Avoid Irritants:** Reduce the intake of caffeine, alcohol, and spicy foods, as they can irritate the bladder.\n",
      "\n",
      "**Precaution:** If you have any chronic illnesses or are on other medications, consult with a healthcare provider before starting any new remedy.\n",
      "\n",
      "Please confirm this remedy or medication with a certified Ayurvedic practitioner or healthcare expert before following it.\n"
     ]
    }
   ],
   "source": [
    "from rag_logic import load_db, build_conversational_chain\n",
    "from langchain_community.embeddings import HuggingFaceEmbeddings\n",
    "from dotenv import load_dotenv\n",
    "\n",
    "load_dotenv()\n",
    "\n",
    "# Load embeddings + DB\n",
    "embeddings = HuggingFaceEmbeddings(model_name=\"sentence-transformers/all-MiniLM-L6-v2\")\n",
    "db = load_db(embeddings)\n",
    "\n",
    "# Get conversational chain\n",
    "chain, retriever, config = build_conversational_chain(db)\n",
    "\n",
    "# Query\n",
    "query = \"I feel severe pain in urinary bladder, intense pain in penis, frequent urination in less quantity\"\n",
    "\n",
    "# ✅ Pass dict, not list\n",
    "rag_answer = chain.invoke({\"question\": query}, config=config)\n",
    "print(rag_answer)\n",
    "\n"
   ]
  },
  {
   "cell_type": "code",
   "execution_count": 2,
   "id": "e61cda58",
   "metadata": {},
   "outputs": [
    {
     "name": "stdout",
     "output_type": "stream",
     "text": [
      "*   **Classical Ayurvedic Formulation:**\n",
      "    *   **Medication:** Chandraprabha Vati\n",
      "    *   **Dosage:** 1-2 tablets twice daily\n",
      "    *   **Timing:** After food with warm water\n",
      "    *   **Benefits:** It helps in relieving urinary problems.\n",
      "\n",
      "Please confirm this remedy or medication with a certified Ayurvedic practitioner or healthcare expert before following it.\n"
     ]
    }
   ],
   "source": [
    "query = \"give me only classical formulations from above answer with no changes\"\n",
    "\n",
    "# ✅ Pass dict, not list\n",
    "rag_answer = chain.invoke({\"question\": query}, config=config)\n",
    "print(rag_answer)"
   ]
  },
  {
   "cell_type": "code",
   "execution_count": 2,
   "id": "1d5545d8",
   "metadata": {},
   "outputs": [],
   "source": [
    "from rag_logic import save_feedback\n",
    "query = \"give me only classical formulations from above answer with no changes\"\n",
    "\n",
    "rag_answer=\"testing\"\n",
    "save_feedback(\n",
    "    query=query,\n",
    "    bot_output=rag_answer,\n",
    "    doctor_feedback=\"correct\"\n",
    ")"
   ]
  },
  {
   "cell_type": "code",
   "execution_count": 8,
   "id": "b9b465fc",
   "metadata": {},
   "outputs": [],
   "source": [
    "# Query\n",
    "query = \"I have legs stiffness+thighs stiffness+wrist stiffness\"\n",
    "\n",
    "# ✅ Pass dict, not list\n",
    "rag_answer = chain.invoke({\"question\": query}, config=config)"
   ]
  },
  {
   "cell_type": "code",
   "execution_count": 11,
   "id": "0391d453",
   "metadata": {},
   "outputs": [],
   "source": [
    "import pandas as pd\n",
    "from rag_logic import load_db, build_conversational_chain\n",
    "from langchain_huggingface import HuggingFaceEmbeddings\n",
    "\n",
    "# ================================\n",
    "# Load Embeddings + DB + Chain\n",
    "# ================================\n",
    "embeddings = HuggingFaceEmbeddings(model_name=\"sentence-transformers/all-MiniLM-L6-v2\")\n",
    "db = load_db(embeddings)\n",
    "conv_chain, retriever, config = build_conversational_chain(db, session_id=\"excel_run\")\n",
    "\n",
    "# ================================\n",
    "# File paths\n",
    "# ================================\n",
    "input_file = \"Filtered.xlsx\"\n",
    "output_file = \"Disease_symptoms_with_answers.xlsx\"\n",
    "\n",
    "# Load all sheets\n",
    "sheets_dict = pd.read_excel(input_file)\n",
    "\n",
    "output_sheets = {}"
   ]
  },
  {
   "cell_type": "code",
   "execution_count": 26,
   "id": "875f1460",
   "metadata": {},
   "outputs": [],
   "source": [
    "results = []\n",
    "for query in sheets_dict['symptoms']:  # assuming column is \"symptom\"\n",
    "    rag_answer = conv_chain.invoke({\"question\": query}, config=config)\n",
    "    results.append({\"query\": query, \"RAG_Answer\": rag_answer})\n",
    "\n",
    "# Convert to DataFrame for saving\n",
    "output_df = pd.DataFrame(results)"
   ]
  },
  {
   "cell_type": "code",
   "execution_count": 27,
   "id": "006f5195",
   "metadata": {},
   "outputs": [
    {
     "data": {
      "text/html": [
       "<div>\n",
       "<style scoped>\n",
       "    .dataframe tbody tr th:only-of-type {\n",
       "        vertical-align: middle;\n",
       "    }\n",
       "\n",
       "    .dataframe tbody tr th {\n",
       "        vertical-align: top;\n",
       "    }\n",
       "\n",
       "    .dataframe thead th {\n",
       "        text-align: right;\n",
       "    }\n",
       "</style>\n",
       "<table border=\"1\" class=\"dataframe\">\n",
       "  <thead>\n",
       "    <tr style=\"text-align: right;\">\n",
       "      <th></th>\n",
       "      <th>query</th>\n",
       "      <th>RAG_Answer</th>\n",
       "    </tr>\n",
       "  </thead>\n",
       "  <tbody>\n",
       "    <tr>\n",
       "      <th>0</th>\n",
       "      <td>fever+cough+hiccups+asthama+change in taste of...</td>\n",
       "      <td>Based on the symptoms provided, here is an Ayu...</td>\n",
       "    </tr>\n",
       "    <tr>\n",
       "      <th>1</th>\n",
       "      <td>tachycardia+feeling of dryness in heart++stiff...</td>\n",
       "      <td>Based on the symptoms provided, here is an Ayu...</td>\n",
       "    </tr>\n",
       "    <tr>\n",
       "      <th>2</th>\n",
       "      <td>heart burn+syncope+to be afraid+fever+heat up+...</td>\n",
       "      <td>Based on the symptoms provided, here is an Ayu...</td>\n",
       "    </tr>\n",
       "    <tr>\n",
       "      <th>3</th>\n",
       "      <td>heaviness in heart+stiffness in heart+dribblin...</td>\n",
       "      <td>Based on the symptoms provided, here is an Ayu...</td>\n",
       "    </tr>\n",
       "    <tr>\n",
       "      <th>4</th>\n",
       "      <td>intense heart ache+pricking pain in heart+itch...</td>\n",
       "      <td>Based on the symptoms provided, here is an Ayu...</td>\n",
       "    </tr>\n",
       "  </tbody>\n",
       "</table>\n",
       "</div>"
      ],
      "text/plain": [
       "                                               query  \\\n",
       "0  fever+cough+hiccups+asthama+change in taste of...   \n",
       "1  tachycardia+feeling of dryness in heart++stiff...   \n",
       "2  heart burn+syncope+to be afraid+fever+heat up+...   \n",
       "3  heaviness in heart+stiffness in heart+dribblin...   \n",
       "4  intense heart ache+pricking pain in heart+itch...   \n",
       "\n",
       "                                          RAG_Answer  \n",
       "0  Based on the symptoms provided, here is an Ayu...  \n",
       "1  Based on the symptoms provided, here is an Ayu...  \n",
       "2  Based on the symptoms provided, here is an Ayu...  \n",
       "3  Based on the symptoms provided, here is an Ayu...  \n",
       "4  Based on the symptoms provided, here is an Ayu...  "
      ]
     },
     "execution_count": 27,
     "metadata": {},
     "output_type": "execute_result"
    }
   ],
   "source": [
    "output_df.head()"
   ]
  },
  {
   "cell_type": "code",
   "execution_count": 28,
   "id": "9dedefa7",
   "metadata": {},
   "outputs": [],
   "source": [
    "output_df.to_excel(output_file, index=False)\n"
   ]
  },
  {
   "cell_type": "code",
   "execution_count": 30,
   "id": "816f9f58",
   "metadata": {},
   "outputs": [],
   "source": [
    "from langchain_google_genai import ChatGoogleGenerativeAI\n",
    "# Use the same model name as in conv_chain config\n",
    "from dotenv import load_dotenv\n",
    "load_dotenv()\n",
    "import os\n",
    "os.environ[\"GOOGLE_API_KEY\"] = os.getenv(\"GEMINI_API_KEY\")\n",
    "gemini_llm = ChatGoogleGenerativeAI(model=\"gemini-2.0-flash\")\n"
   ]
  },
  {
   "cell_type": "code",
   "execution_count": 31,
   "id": "035b24cf",
   "metadata": {},
   "outputs": [
    {
     "name": "stdout",
     "output_type": "stream",
     "text": [
      "✅ Saved RAG vs Gemini results with similarity to RAG_vs_Gemini_with_Similarity.xlsx\n"
     ]
    }
   ],
   "source": [
    "import pandas as pd\n",
    "import time\n",
    "from rag_logic import load_db, build_conversational_chain\n",
    "from sklearn.metrics.pairwise import cosine_similarity\n",
    "from langchain_google_genai import ChatGoogleGenerativeAI\n",
    "from langchain_huggingface import HuggingFaceEmbeddings\n",
    "\n",
    "# ================================\n",
    "# Load Gemini LLM (baseline)\n",
    "# ================================\n",
    "gemini_llm = ChatGoogleGenerativeAI(model=\"gemini-2.0-flash\")\n",
    "\n",
    "# ================================\n",
    "# Embeddings for similarity\n",
    "# ================================\n",
    "embeddings_model = HuggingFaceEmbeddings(model_name=\"sentence-transformers/all-MiniLM-L6-v2\")\n",
    "\n",
    "# ================================\n",
    "# Collect results\n",
    "# ================================\n",
    "baseline_results = []\n",
    "\n",
    "for query in sheets_dict['symptoms']:\n",
    "    # Direct Gemini answer\n",
    "    gemini_answer = gemini_llm.invoke(query)\n",
    "    gemini_text = gemini_answer.content if hasattr(gemini_answer, \"content\") else str(gemini_answer)\n",
    "\n",
    "    # RAG answer\n",
    "    rag_answer = conv_chain.invoke({\"question\": query}, config=config)\n",
    "    rag_text = rag_answer if isinstance(rag_answer, str) else str(rag_answer)\n",
    "\n",
    "    # Compute embeddings\n",
    "    gemini_vec = embeddings_model.embed_query(gemini_text)\n",
    "    rag_vec = embeddings_model.embed_query(rag_text)\n",
    "\n",
    "    # Cosine similarity\n",
    "    similarity = cosine_similarity([gemini_vec], [rag_vec])[0][0]\n",
    "\n",
    "    # Save results\n",
    "    baseline_results.append({\n",
    "        \"query\": query,\n",
    "        \"Gemini_Answer\": gemini_text,\n",
    "        \"RAG_Answer\": rag_text,\n",
    "        \"Similarity_Score\": round(similarity, 4)\n",
    "    })\n",
    "\n",
    "    time.sleep(5)  # avoid hitting Gemini quota\n",
    "\n",
    "# ================================\n",
    "# Save to Excel\n",
    "# ================================\n",
    "baseline_df = pd.DataFrame(baseline_results)\n",
    "baseline_df.to_excel(\"RAG_vs_Gemini_with_Similarity.xlsx\", index=False)\n",
    "\n",
    "print(\"✅ Saved RAG vs Gemini results with similarity to RAG_vs_Gemini_with_Similarity.xlsx\")\n"
   ]
  }
 ],
 "metadata": {
  "kernelspec": {
   "display_name": "vedbot",
   "language": "python",
   "name": "python3"
  },
  "language_info": {
   "codemirror_mode": {
    "name": "ipython",
    "version": 3
   },
   "file_extension": ".py",
   "mimetype": "text/x-python",
   "name": "python",
   "nbconvert_exporter": "python",
   "pygments_lexer": "ipython3",
   "version": "3.13.5"
  }
 },
 "nbformat": 4,
 "nbformat_minor": 5
}
